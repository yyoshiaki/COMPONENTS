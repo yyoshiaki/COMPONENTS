{
 "cells": [
  {
   "cell_type": "markdown",
   "metadata": {},
   "source": [
    "# 2020/03/29\n",
    "\n",
    "Data from [https://compartments.jensenlab.org/Downloads](COMPONENTS).\n",
    "\n",
    "![https://oup.silverchair-cdn.com/oup/backfile/Content_public/Journal/database/2014/10.1093_database_bau012/2/bau012f1p.jpeg?Expires=1588486372&Signature=3nE0f0pGSTuHVM3xRqKS7EZwtfiByc7kiOEhhD9kJPTw5b1RXsVGbI~pTVDDI0pvysU-wMd9mCeNE4sr--raze8fhQaND662r3yeOHJWSIF2qHLH46Muc97cFtXXex8hqKwI5YyRMzt2PcOeBnsfQw~IuIUKTqNXr6IQ-gtK~XeglcwCdfhjFk~omrpxvF8U9vJNP3A9qMcqf0PR54AlWnGGsV1N9GkxBmdKxxEWvIfuYqPdn6ajpujmgcqBZmvJ8Sj-1JB6djHgR-aqPYvDWPey1CL1GK1xYX79bjGbKDMxk3U52BRWKCVetQ6yotJtHK3M-z9Z98H3uRVzHh6i7A__&Key-Pair-Id=APKAIE5G5CRDK6RD3PGA](https://oup.silverchair-cdn.com/oup/backfile/Content_public/Journal/database/2014/10.1093_database_bau012/2/bau012f1p.jpeg?Expires=1588486372&Signature=3nE0f0pGSTuHVM3xRqKS7EZwtfiByc7kiOEhhD9kJPTw5b1RXsVGbI~pTVDDI0pvysU-wMd9mCeNE4sr--raze8fhQaND662r3yeOHJWSIF2qHLH46Muc97cFtXXex8hqKwI5YyRMzt2PcOeBnsfQw~IuIUKTqNXr6IQ-gtK~XeglcwCdfhjFk~omrpxvF8U9vJNP3A9qMcqf0PR54AlWnGGsV1N9GkxBmdKxxEWvIfuYqPdn6ajpujmgcqBZmvJ8Sj-1JB6djHgR-aqPYvDWPey1CL1GK1xYX79bjGbKDMxk3U52BRWKCVetQ6yotJtHK3M-z9Z98H3uRVzHh6i7A__&Key-Pair-Id=APKAIE5G5CRDK6RD3PGA)\n",
    "\n",
    "Binder, J. X., Pletscher-Frankild, S., Tsafou, K., Stolte, C., O’Donoghue, S. I., Schneider, R., & Jensen, L. J. (2014). COMPARTMENTS: Unification and visualization of protein subcellular localization evidence. Database, 2014, 1–9. https://doi.org/10.1093/database/bau012"
   ]
  },
  {
   "cell_type": "code",
   "execution_count": 1,
   "metadata": {},
   "outputs": [],
   "source": [
    "import numpy as np\n",
    "import pandas as pd\n",
    "import matplotlib.pyplot as plt\n",
    "import seaborn as sns\n",
    "np.random.seed(100)\n",
    "%matplotlib inline\n",
    "%config InlineBackend.figure_format = 'retina'\n",
    "\n",
    "import matplotlib as mpl\n",
    "mpl.rcParams['figure.facecolor'] = (1,1,1,1)\n",
    "mpl.rcParams['pdf.fonttype'] = 42\n",
    "mpl.rcParams['ps.fonttype'] = 42"
   ]
  },
  {
   "cell_type": "markdown",
   "metadata": {},
   "source": [
    "## human"
   ]
  },
  {
   "cell_type": "code",
   "execution_count": 6,
   "metadata": {},
   "outputs": [],
   "source": [
    "df_comp = pd.read_csv('data/human_compartment_integrated_full.tsv', sep='\\t', header=None)\n",
    "df_comp.columns = ['ens', 'gene', 'go', 'term', 'score']"
   ]
  },
  {
   "cell_type": "code",
   "execution_count": 11,
   "metadata": {},
   "outputs": [
    {
     "data": {
      "text/html": [
       "<div>\n",
       "<style scoped>\n",
       "    .dataframe tbody tr th:only-of-type {\n",
       "        vertical-align: middle;\n",
       "    }\n",
       "\n",
       "    .dataframe tbody tr th {\n",
       "        vertical-align: top;\n",
       "    }\n",
       "\n",
       "    .dataframe thead th {\n",
       "        text-align: right;\n",
       "    }\n",
       "</style>\n",
       "<table border=\"1\" class=\"dataframe\">\n",
       "  <thead>\n",
       "    <tr style=\"text-align: right;\">\n",
       "      <th></th>\n",
       "      <th>ens</th>\n",
       "      <th>gene</th>\n",
       "      <th>go</th>\n",
       "      <th>term</th>\n",
       "      <th>score</th>\n",
       "    </tr>\n",
       "  </thead>\n",
       "  <tbody>\n",
       "    <tr>\n",
       "      <th>2613155</th>\n",
       "      <td>ENSP00000365380</td>\n",
       "      <td>FOXP3</td>\n",
       "      <td>GO:0005634</td>\n",
       "      <td>Nucleus</td>\n",
       "      <td>5.0</td>\n",
       "    </tr>\n",
       "  </tbody>\n",
       "</table>\n",
       "</div>"
      ],
      "text/plain": [
       "                     ens   gene          go     term  score\n",
       "2613155  ENSP00000365380  FOXP3  GO:0005634  Nucleus    5.0"
      ]
     },
     "execution_count": 11,
     "metadata": {},
     "output_type": "execute_result"
    }
   ],
   "source": [
    "df_comp[(df_comp.gene == 'FOXP3') & (df_comp.term == 'Nucleus')]"
   ]
  },
  {
   "cell_type": "code",
   "execution_count": 36,
   "metadata": {},
   "outputs": [],
   "source": [
    "list_comp = ['Extracellular region', 'Plasma membrane', 'Cytoskeleton', 'Nucleus', \n",
    "             'Mitochondrion', 'Peroxisome', 'Endoplasmic reticulum' ,'Endosome', 'Cytosol', 'Lysosome', 'Golgi apparatus']"
   ]
  },
  {
   "cell_type": "code",
   "execution_count": 37,
   "metadata": {},
   "outputs": [
    {
     "name": "stdout",
     "output_type": "stream",
     "text": [
      "Extracellular region (16913, 5)\n",
      "Plasma membrane (16504, 5)\n",
      "Cytoskeleton (15597, 5)\n",
      "Nucleus (19483, 5)\n",
      "Mitochondrion (15400, 5)\n",
      "Peroxisome (8293, 5)\n",
      "Endoplasmic reticulum (12593, 5)\n",
      "Endosome (8605, 5)\n",
      "Cytosol (17679, 5)\n",
      "Lysosome (9652, 5)\n",
      "Golgi apparatus (9924, 5)\n"
     ]
    }
   ],
   "source": [
    "for c in list_comp:\n",
    "    print(c, df_comp[df_comp.term == c].shape)"
   ]
  },
  {
   "cell_type": "code",
   "execution_count": 43,
   "metadata": {},
   "outputs": [
    {
     "data": {
      "text/html": [
       "<div>\n",
       "<style scoped>\n",
       "    .dataframe tbody tr th:only-of-type {\n",
       "        vertical-align: middle;\n",
       "    }\n",
       "\n",
       "    .dataframe tbody tr th {\n",
       "        vertical-align: top;\n",
       "    }\n",
       "\n",
       "    .dataframe thead th {\n",
       "        text-align: right;\n",
       "    }\n",
       "</style>\n",
       "<table border=\"1\" class=\"dataframe\">\n",
       "  <thead>\n",
       "    <tr style=\"text-align: right;\">\n",
       "      <th></th>\n",
       "      <th>ens</th>\n",
       "      <th>gene</th>\n",
       "      <th>go</th>\n",
       "      <th>term</th>\n",
       "      <th>score</th>\n",
       "    </tr>\n",
       "  </thead>\n",
       "  <tbody>\n",
       "    <tr>\n",
       "      <th>1234345</th>\n",
       "      <td>ENSP00000301585</td>\n",
       "      <td>ICT1</td>\n",
       "      <td>GO:0005739</td>\n",
       "      <td>Mitochondrion</td>\n",
       "      <td>5.0</td>\n",
       "    </tr>\n",
       "    <tr>\n",
       "      <th>2173818</th>\n",
       "      <td>ENSP00000354961</td>\n",
       "      <td>MT-ND4</td>\n",
       "      <td>GO:0005739</td>\n",
       "      <td>Mitochondrion</td>\n",
       "      <td>5.0</td>\n",
       "    </tr>\n",
       "    <tr>\n",
       "      <th>2167444</th>\n",
       "      <td>ENSP00000354876</td>\n",
       "      <td>MT-CO2</td>\n",
       "      <td>GO:0005739</td>\n",
       "      <td>Mitochondrion</td>\n",
       "      <td>5.0</td>\n",
       "    </tr>\n",
       "    <tr>\n",
       "      <th>1179048</th>\n",
       "      <td>ENSP00000298295</td>\n",
       "      <td>C10orf10</td>\n",
       "      <td>GO:0005739</td>\n",
       "      <td>Mitochondrion</td>\n",
       "      <td>5.0</td>\n",
       "    </tr>\n",
       "    <tr>\n",
       "      <th>2165643</th>\n",
       "      <td>ENSP00000354848</td>\n",
       "      <td>KIAA1279</td>\n",
       "      <td>GO:0005739</td>\n",
       "      <td>Mitochondrion</td>\n",
       "      <td>5.0</td>\n",
       "    </tr>\n",
       "    <tr>\n",
       "      <th>203139</th>\n",
       "      <td>ENSP00000224807</td>\n",
       "      <td>SFXN3</td>\n",
       "      <td>GO:0005739</td>\n",
       "      <td>Mitochondrion</td>\n",
       "      <td>5.0</td>\n",
       "    </tr>\n",
       "    <tr>\n",
       "      <th>2163921</th>\n",
       "      <td>ENSP00000354822</td>\n",
       "      <td>XAF1</td>\n",
       "      <td>GO:0005739</td>\n",
       "      <td>Mitochondrion</td>\n",
       "      <td>5.0</td>\n",
       "    </tr>\n",
       "    <tr>\n",
       "      <th>2163715</th>\n",
       "      <td>ENSP00000354813</td>\n",
       "      <td>MT-ND5</td>\n",
       "      <td>GO:0005739</td>\n",
       "      <td>Mitochondrion</td>\n",
       "      <td>5.0</td>\n",
       "    </tr>\n",
       "    <tr>\n",
       "      <th>2161585</th>\n",
       "      <td>ENSP00000354762</td>\n",
       "      <td>COA3</td>\n",
       "      <td>GO:0005739</td>\n",
       "      <td>Mitochondrion</td>\n",
       "      <td>5.0</td>\n",
       "    </tr>\n",
       "    <tr>\n",
       "      <th>203809</th>\n",
       "      <td>ENSP00000225174</td>\n",
       "      <td>PPIF</td>\n",
       "      <td>GO:0005739</td>\n",
       "      <td>Mitochondrion</td>\n",
       "      <td>5.0</td>\n",
       "    </tr>\n",
       "  </tbody>\n",
       "</table>\n",
       "</div>"
      ],
      "text/plain": [
       "                     ens      gene          go           term  score\n",
       "1234345  ENSP00000301585      ICT1  GO:0005739  Mitochondrion    5.0\n",
       "2173818  ENSP00000354961    MT-ND4  GO:0005739  Mitochondrion    5.0\n",
       "2167444  ENSP00000354876    MT-CO2  GO:0005739  Mitochondrion    5.0\n",
       "1179048  ENSP00000298295  C10orf10  GO:0005739  Mitochondrion    5.0\n",
       "2165643  ENSP00000354848  KIAA1279  GO:0005739  Mitochondrion    5.0\n",
       "203139   ENSP00000224807     SFXN3  GO:0005739  Mitochondrion    5.0\n",
       "2163921  ENSP00000354822      XAF1  GO:0005739  Mitochondrion    5.0\n",
       "2163715  ENSP00000354813    MT-ND5  GO:0005739  Mitochondrion    5.0\n",
       "2161585  ENSP00000354762      COA3  GO:0005739  Mitochondrion    5.0\n",
       "203809   ENSP00000225174      PPIF  GO:0005739  Mitochondrion    5.0"
      ]
     },
     "execution_count": 43,
     "metadata": {},
     "output_type": "execute_result"
    }
   ],
   "source": [
    "c = 'Mitochondrion'\n",
    "df_comp[df_comp.term == c].sort_values(by='score', ascending=False).head(10)"
   ]
  },
  {
   "cell_type": "code",
   "execution_count": 52,
   "metadata": {},
   "outputs": [],
   "source": [
    "for i,c in enumerate(list_comp):\n",
    "    d = df_comp.loc[df_comp.term == c, ['gene', 'score']]\n",
    "    d.index = d.gene\n",
    "    d = d[['score']]\n",
    "    d.columns = [c]\n",
    "    \n",
    "    if i == 0:\n",
    "        df_merged = d.copy()\n",
    "    else:\n",
    "        df_merged = df_merged.join(d, how='outer')\n",
    "df_merged = df_merged.fillna(0)"
   ]
  },
  {
   "cell_type": "code",
   "execution_count": 54,
   "metadata": {},
   "outputs": [
    {
     "data": {
      "text/plain": [
       "Extracellular region     3.430\n",
       "Plasma membrane          2.992\n",
       "Cytoskeleton             2.359\n",
       "Nucleus                  5.000\n",
       "Mitochondrion            2.357\n",
       "Peroxisome               1.489\n",
       "Endoplasmic reticulum    2.175\n",
       "Endosome                 2.149\n",
       "Cytosol                  2.599\n",
       "Lysosome                 2.226\n",
       "Golgi apparatus          2.142\n",
       "Name: FOXP3, dtype: float64"
      ]
     },
     "execution_count": 54,
     "metadata": {},
     "output_type": "execute_result"
    }
   ],
   "source": [
    "df_merged.loc['FOXP3']"
   ]
  },
  {
   "cell_type": "code",
   "execution_count": 55,
   "metadata": {},
   "outputs": [
    {
     "data": {
      "text/plain": [
       "Extracellular region     3.971\n",
       "Plasma membrane          5.000\n",
       "Cytoskeleton             3.035\n",
       "Nucleus                  3.591\n",
       "Mitochondrion            3.010\n",
       "Peroxisome               2.915\n",
       "Endoplasmic reticulum    4.611\n",
       "Endosome                 4.625\n",
       "Cytosol                  3.439\n",
       "Lysosome                 3.112\n",
       "Golgi apparatus          2.575\n",
       "Name: CD4, dtype: float64"
      ]
     },
     "execution_count": 55,
     "metadata": {},
     "output_type": "execute_result"
    }
   ],
   "source": [
    "df_merged.loc['CD4']"
   ]
  },
  {
   "cell_type": "code",
   "execution_count": 56,
   "metadata": {},
   "outputs": [],
   "source": [
    "df_merged.to_csv('data/200329_human_compartment_integrated_arranged.csv')"
   ]
  },
  {
   "cell_type": "markdown",
   "metadata": {},
   "source": [
    "## mouse"
   ]
  },
  {
   "cell_type": "code",
   "execution_count": 58,
   "metadata": {},
   "outputs": [],
   "source": [
    "df_comp = pd.read_csv('data/mouse_compartment_integrated_full.tsv', sep='\\t', header=None)\n",
    "df_comp.columns = ['ens', 'gene', 'go', 'term', 'score']\n",
    "list_comp = ['Extracellular region', 'Plasma membrane', 'Cytoskeleton', 'Nucleus', 'Mitochondrion', 'Peroxisome', \n",
    "             'Endoplasmic reticulum' ,'Endosome', 'Cytosol', 'Lysosome', 'Golgi apparatus']"
   ]
  },
  {
   "cell_type": "code",
   "execution_count": 59,
   "metadata": {},
   "outputs": [
    {
     "name": "stdout",
     "output_type": "stream",
     "text": [
      "Extracellular region (15318, 5)\n",
      "Plasma membrane (15640, 5)\n",
      "Cytoskeleton (13363, 5)\n",
      "Nucleus (18184, 5)\n",
      "Mitochondrion (14131, 5)\n",
      "Peroxisome (7444, 5)\n",
      "Endoplasmic reticulum (11072, 5)\n",
      "Endosome (7060, 5)\n",
      "Cytosol (16916, 5)\n",
      "Lysosome (8463, 5)\n",
      "Golgi apparatus (7797, 5)\n"
     ]
    }
   ],
   "source": [
    "for c in list_comp:\n",
    "    print(c, df_comp[df_comp.term == c].shape)"
   ]
  },
  {
   "cell_type": "code",
   "execution_count": 60,
   "metadata": {},
   "outputs": [],
   "source": [
    "for i,c in enumerate(list_comp):\n",
    "    d = df_comp.loc[df_comp.term == c, ['gene', 'score']]\n",
    "    d.index = d.gene\n",
    "    d = d[['score']]\n",
    "    d.columns = [c]\n",
    "    \n",
    "    if i == 0:\n",
    "        df_merged = d.copy()\n",
    "    else:\n",
    "        df_merged = df_merged.join(d, how='outer')\n",
    "df_merged = df_merged.fillna(0)\n",
    "df_merged.to_csv('data/200329_mouse_compartment_integrated_arranged.csv')"
   ]
  },
  {
   "cell_type": "code",
   "execution_count": null,
   "metadata": {},
   "outputs": [],
   "source": []
  }
 ],
 "metadata": {
  "kernelspec": {
   "display_name": "Python 3",
   "language": "python",
   "name": "python3"
  },
  "language_info": {
   "codemirror_mode": {
    "name": "ipython",
    "version": 3
   },
   "file_extension": ".py",
   "mimetype": "text/x-python",
   "name": "python",
   "nbconvert_exporter": "python",
   "pygments_lexer": "ipython3",
   "version": "3.7.3"
  }
 },
 "nbformat": 4,
 "nbformat_minor": 2
}
